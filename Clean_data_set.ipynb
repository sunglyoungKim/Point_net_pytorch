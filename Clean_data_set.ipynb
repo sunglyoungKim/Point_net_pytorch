{
 "cells": [
  {
   "cell_type": "code",
   "execution_count": 1,
   "metadata": {},
   "outputs": [],
   "source": [
    "import pandas as pd\n",
    "import numpy as np\n",
    "import io, os, sys\n",
    "import glob\n"
   ]
  },
  {
   "cell_type": "code",
   "execution_count": 2,
   "metadata": {},
   "outputs": [],
   "source": [
    "class data_clean():\n",
    "    \n",
    "    \n",
    "    \n",
    "    \"\"\"\n",
    "    centered the point clouds and make a total train/test set\n",
    "    \"\"\"\n",
    "    def __init__(self, root_dir):\n",
    "        \"\"\"\n",
    "        Args:\n",
    "            files\n",
    "            root_dir (string): Directory with the ModelNet.\n",
    "\n",
    "        \"\"\"\n",
    "        self.root_dir = root_dir\n",
    "    \n",
    "\n",
    "    def centered_point_clouds(self, files):\n",
    "\n",
    "        train_set = []\n",
    "        \n",
    "        for filename in files:\n",
    "            train_airplane = pd.read_csv(filename, skiprows = [0,1],\n",
    "                    header = None, names = ['x', 'y', 'z', 'c'], sep = \" \")\n",
    "            train_airplane = train_airplane[train_airplane.isnull().any(axis = 1)]\n",
    "            train_airplane = train_airplane.iloc[:, :-1]\n",
    "            train_airplane = train_airplane.to_numpy() \n",
    "\n",
    "            max_min = (np.abs(np.max(train_airplane, axis = 0)) - np.abs(np.min(train_airplane, axis = 0))) / 2\n",
    "\n",
    "\n",
    "            Canonical_ST = np.zeros([1,3])\n",
    "\n",
    "            Canonical_ST[0,0] = max_min[0]\n",
    "            Canonical_ST[0,1] = max_min[1]\n",
    "            Canonical_ST[0,2] = max_min[2]\n",
    "\n",
    "            centered_point_clouds = train_airplane - Canonical_ST\n",
    "\n",
    "            train_set.append(centered_point_clouds)\n",
    "\n",
    "        return train_set\n",
    "\n",
    "\n",
    "    def total_set(self):\n",
    "\n",
    "        total_train_set = []\n",
    "        total_test_set = []\n",
    "        \n",
    "        class_list = os.listdir(self.root_dir) # to find how many classes are, of course 40.....\n",
    "        \n",
    "\n",
    "        for i in range(len(class_list)):\n",
    "            \n",
    "            train_files = glob.glob(self.root_dir + class_list[i] + '/train/*.off')\n",
    "            test_files = glob.glob(self.root_dir + class_list[i] + '/test/*.off')\n",
    "\n",
    "            train = self.centered_point_clouds(train_files)\n",
    "            test = self.centered_point_clouds(test_files)\n",
    "            \n",
    "            total_train_set.append(train)\n",
    "            total_test_set.append(test)\n",
    "\n",
    "        return total_train_set, total_test_set\n",
    "    \n"
   ]
  },
  {
   "cell_type": "code",
   "execution_count": 3,
   "metadata": {},
   "outputs": [],
   "source": [
    "clean_data = data_clean('./ModelNet40/')"
   ]
  },
  {
   "cell_type": "code",
   "execution_count": 4,
   "metadata": {},
   "outputs": [],
   "source": [
    "total_train_set, total_test_set = clean_data.total_set()"
   ]
  },
  {
   "cell_type": "code",
   "execution_count": 5,
   "metadata": {},
   "outputs": [],
   "source": [
    "np.save(\"total_train_set\", total_train_set)\n",
    "np.save(\"total_test_set\", total_test_set)"
   ]
  },
  {
   "cell_type": "code",
   "execution_count": 6,
   "metadata": {},
   "outputs": [],
   "source": [
    "total_train_set_test = np.load(\"total_train_set.npy\", allow_pickle = True)\n",
    "total_test_set_test = np.load(\"total_test_set.npy\", allow_pickle = True)"
   ]
  },
  {
   "cell_type": "code",
   "execution_count": 10,
   "metadata": {},
   "outputs": [
    {
     "name": "stdout",
     "output_type": "stream",
     "text": [
      "how many classes:  40 and how many train set in the first class?  626\n"
     ]
    }
   ],
   "source": [
    "\n",
    "print(\"how many classes: \", len(total_train_set_test), \"and how many train set in the first class? \" , len(total_train_set_test[0]))"
   ]
  },
  {
   "cell_type": "code",
   "execution_count": null,
   "metadata": {},
   "outputs": [],
   "source": []
  }
 ],
 "metadata": {
  "kernelspec": {
   "display_name": "Python 3",
   "language": "python",
   "name": "python3"
  },
  "language_info": {
   "codemirror_mode": {
    "name": "ipython",
    "version": 3
   },
   "file_extension": ".py",
   "mimetype": "text/x-python",
   "name": "python",
   "nbconvert_exporter": "python",
   "pygments_lexer": "ipython3",
   "version": "3.6.8"
  }
 },
 "nbformat": 4,
 "nbformat_minor": 2
}
