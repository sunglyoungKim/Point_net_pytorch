{
 "cells": [
  {
   "cell_type": "code",
   "execution_count": 1,
   "metadata": {},
   "outputs": [],
   "source": [
    "import pandas as pd\n",
    "import numpy as np\n",
    "import io, os, sys\n",
    "import glob\n"
   ]
  },
  {
   "cell_type": "code",
   "execution_count": null,
   "metadata": {},
   "outputs": [],
   "source": [
    "    def centered_point_clouds(self, files):\n",
    "\n",
    "        train_set = []\n",
    "        \n",
    "        for filename in files:\n",
    "            data_set = pd.read_csv(filename, skiprows = [0,1],\n",
    "                    header = None, names = ['x', 'y', 'z', 'c'], sep = \" \")\n",
    "            data_set = data_set[data_set.isnull().any(axis = 1)]\n",
    "            data_set = data_set.iloc[:, :-1]\n",
    "            data_set = data_set.to_numpy() \n",
    "\n",
    "            max_min = (np.abs(np.max(data_set, axis = 0)) - np.abs(np.min(data_set, axis = 0))) / 2\n",
    "\n",
    "\n",
    "            Canonical_ST = np.zeros([1,3])\n",
    "\n",
    "            Canonical_ST[0,0] = max_min[0]\n",
    "            Canonical_ST[0,1] = max_min[1]\n",
    "            Canonical_ST[0,2] = max_min[2]\n",
    "\n",
    "            centered_point_clouds = data_set - Canonical_ST\n",
    "\n",
    "            train_set.append(centered_point_clouds)\n",
    "\n",
    "        return train_set\n"
   ]
  },
  {
   "cell_type": "code",
   "execution_count": 76,
   "metadata": {},
   "outputs": [],
   "source": [
    "class data_clean():\n",
    "    \n",
    "    \n",
    "    \n",
    "    \"\"\"\n",
    "    centered the point clouds and make a total train/test set\n",
    "    \"\"\"\n",
    "    def __init__(self, root_dir):\n",
    "        \"\"\"\n",
    "        Args:\n",
    "            files\n",
    "            root_dir (string): Directory with the ModelNet.\n",
    "\n",
    "        \"\"\"\n",
    "        self.root_dir = root_dir\n",
    "    \n",
    "\n",
    "    def centered_point_clouds(self, files):\n",
    "\n",
    "        train_set = []\n",
    "        \n",
    "        for filename in files:\n",
    "            data_set = pd.read_csv(filename, skiprows = [0,1],\n",
    "                    header = None, names = ['x', 'y', 'z', 'c'], sep = \" \")\n",
    "            data_set = data_set[data_set.isnull().any(axis = 1)]\n",
    "            data_set = data_set.iloc[:, :-1]\n",
    "            data_set = data_set.to_numpy() \n",
    "\n",
    "            max_min = (np.abs(np.max(data_set, axis = 0)) - np.abs(np.min(data_set, axis = 0))) / 2\n",
    "\n",
    "\n",
    "            Canonical_ST = np.zeros([1,3])\n",
    "\n",
    "            Canonical_ST[0,0] = max_min[0]\n",
    "            Canonical_ST[0,1] = max_min[1]\n",
    "            Canonical_ST[0,2] = max_min[2]\n",
    "\n",
    "            centered_point_clouds = data_set - Canonical_ST\n",
    "\n",
    "            train_set.append(centered_point_clouds)\n",
    "\n",
    "        return train_set\n",
    "\n",
    "\n",
    "    def total_set(self):\n",
    "\n",
    "        total_train_set = []\n",
    "        total_test_set = []\n",
    "        empty_total_train_df= pd.DataFrame()\n",
    "        empty_total_test_df= pd.DataFrame()\n",
    "        class_list = os.listdir(self.root_dir) # to find how many classes are, of course 40.....\n",
    "        \n",
    "\n",
    "        for i in range(len(class_list)):\n",
    "            \n",
    "            train_files = glob.glob(self.root_dir + class_list[i] + '/train/*.off')\n",
    "            test_files = glob.glob(self.root_dir + class_list[i] + '/test/*.off')\n",
    "\n",
    "            train = self.centered_point_clouds(train_files)\n",
    "            test = self.centered_point_clouds(test_files)\n",
    "            \n",
    "            train_df = pd.DataFrame(train)\n",
    "            train_df['class'] = i\n",
    "            \n",
    "            test_df = pd.DataFrame(test)\n",
    "            test_df['class'] = i\n",
    "\n",
    "            \n",
    "            empty_total_train_df = empty_total_train_df.append(train_df)\n",
    "            empty_total_test_df = empty_total_test_df.append(test_df)\n",
    "            \n",
    "        return empty_total_train_df, empty_total_test_df\n",
    "    \n"
   ]
  },
  {
   "cell_type": "code",
   "execution_count": 77,
   "metadata": {},
   "outputs": [],
   "source": [
    "clean_data = data_clean('./ModelNet40/')"
   ]
  },
  {
   "cell_type": "code",
   "execution_count": 78,
   "metadata": {},
   "outputs": [],
   "source": [
    "total_train_set, total_test_set = clean_data.total_set()"
   ]
  },
  {
   "cell_type": "code",
   "execution_count": 95,
   "metadata": {},
   "outputs": [],
   "source": [
    "train_df = total_train_set.to_csv(\"train_df.csv\", index = False)"
   ]
  },
  {
   "cell_type": "code",
   "execution_count": 96,
   "metadata": {},
   "outputs": [],
   "source": [
    "test_df = total_test_set.to_csv(\"test_df.csv\", index =False)"
   ]
  },
  {
   "cell_type": "code",
   "execution_count": 103,
   "metadata": {
    "scrolled": true
   },
   "outputs": [],
   "source": [
    "train_df = pd.read_csv('./train_df.csv')"
   ]
  },
  {
   "cell_type": "code",
   "execution_count": 104,
   "metadata": {
    "scrolled": true
   },
   "outputs": [],
   "source": [
    "test_df = pd.read_csv('./test_df.csv')"
   ]
  },
  {
   "cell_type": "code",
   "execution_count": 106,
   "metadata": {},
   "outputs": [
    {
     "name": "stdout",
     "output_type": "stream",
     "text": [
      "how many classes?  9843 and how many train set in the first class?  2468\n"
     ]
    }
   ],
   "source": [
    "print(\"how many classes? \", len(train_df), \"and how many train set in the first class? \" , len(test_df))"
   ]
  }
 ],
 "metadata": {
  "kernelspec": {
   "display_name": "Python 3",
   "language": "python",
   "name": "python3"
  },
  "language_info": {
   "codemirror_mode": {
    "name": "ipython",
    "version": 3
   },
   "file_extension": ".py",
   "mimetype": "text/x-python",
   "name": "python",
   "nbconvert_exporter": "python",
   "pygments_lexer": "ipython3",
   "version": "3.6.8"
  }
 },
 "nbformat": 4,
 "nbformat_minor": 2
}
