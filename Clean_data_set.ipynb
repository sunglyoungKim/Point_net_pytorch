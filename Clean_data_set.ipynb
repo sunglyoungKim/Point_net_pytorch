{
 "cells": [
  {
   "cell_type": "code",
   "execution_count": 18,
   "metadata": {},
   "outputs": [],
   "source": [
    "import pandas as pd\n",
    "import numpy as np\n",
    "import scipy as scp\n",
    "import matplotlib.pyplot as plt\n",
    "\n",
    "from mpl_toolkits import mplot3d\n",
    "import io, os, sys\n",
    "import glob"
   ]
  },
  {
   "cell_type": "code",
   "execution_count": 118,
   "metadata": {},
   "outputs": [],
   "source": [
    "\n",
    "class data_clean():\n",
    "    \"\"\"\n",
    "    centered the point clouds and make a total train/test set\n",
    "    \"\"\"\n",
    "    def __init__(self, root_dir):\n",
    "        \"\"\"\n",
    "        Args:\n",
    "            files\n",
    "            root_dir (string): Directory with the ModelNet.\n",
    "\n",
    "        \"\"\"\n",
    "        self.root_dir = root_dir\n",
    "\n",
    "        self.class_list = os.listdir(root_dir) # to find how many classes are, of course 40.....\n",
    "\n",
    "\n",
    "    def centered_point_clouds(self, files):\n",
    "\n",
    "\n",
    "        train_set = []\n",
    "        \n",
    "        for filename in files:\n",
    "            train_airplane = pd.read_csv(filename, skiprows = [0,1],\n",
    "                    header = None, names = ['x', 'y', 'z', 'c'], sep = \" \")\n",
    "            train_airplane = train_airplane[train_airplane.isnull().any(axis = 1)]\n",
    "            train_airplane = train_airplane.iloc[:, :-1]\n",
    "            train_airplane = train_airplane.to_numpy() \n",
    "\n",
    "            max_min = (np.abs(np.max(train_airplane, axis = 0)) - np.abs(np.min(train_airplane, axis = 0))) / 2\n",
    "\n",
    "\n",
    "            Canonical_ST = np.zeros([1,3])\n",
    "\n",
    "            Canonical_ST[0,0] = max_min[0]\n",
    "            Canonical_ST[0,1] = max_min[1]\n",
    "            Canonical_ST[0,2] = max_min[2]\n",
    "\n",
    "            centered_point_clouds = train_airplane - Canonical_ST\n",
    "\n",
    "            train_set.append(centered_point_clouds)\n",
    "\n",
    "        return train_set\n",
    "\n",
    "\n",
    "    def total_set(self, class_list):\n",
    "\n",
    "        total_train_set = []\n",
    "        total_test_set = []\n",
    "        \n",
    "        for i in range(len(class_list)):\n",
    "            train_files = glob.glob(self.root_dir + class_list[i] + '/train/*.off')\n",
    "            test_files = glob.glob(self.root_dir + class_list[i] + '/test/*.off')\n",
    "\n",
    "            train = centered_point_clouds(train_files)\n",
    "            test = centered_point_clouds(test_files)\n",
    "            \n",
    "            total_train_set.append(train)\n",
    "            total_test_set.append(test)\n",
    "\n",
    "        return total_train_set, total_test_set\n",
    "    \n"
   ]
  },
  {
   "cell_type": "code",
   "execution_count": 119,
   "metadata": {},
   "outputs": [],
   "source": [
    "clean_data = data_clean('./ModelNet40/')"
   ]
  },
  {
   "cell_type": "code",
   "execution_count": 123,
   "metadata": {},
   "outputs": [],
   "source": [
    "total_train_set, total_test_set = clean_data.total_set(clean_data.class_list)"
   ]
  },
  {
   "cell_type": "code",
   "execution_count": 158,
   "metadata": {},
   "outputs": [],
   "source": [
    "total_train_set_df.to_pickle(\"./total_train_set.pkl\")"
   ]
  },
  {
   "cell_type": "code",
   "execution_count": 160,
   "metadata": {},
   "outputs": [],
   "source": [
    "total_test_set_df.to_pickle(\"./total_test_set.pkl\")"
   ]
  },
  {
   "cell_type": "code",
   "execution_count": null,
   "metadata": {},
   "outputs": [],
   "source": []
  }
 ],
 "metadata": {
  "kernelspec": {
   "display_name": "Python 3",
   "language": "python",
   "name": "python3"
  },
  "language_info": {
   "codemirror_mode": {
    "name": "ipython",
    "version": 3
   },
   "file_extension": ".py",
   "mimetype": "text/x-python",
   "name": "python",
   "nbconvert_exporter": "python",
   "pygments_lexer": "ipython3",
   "version": "3.6.8"
  }
 },
 "nbformat": 4,
 "nbformat_minor": 2
}
